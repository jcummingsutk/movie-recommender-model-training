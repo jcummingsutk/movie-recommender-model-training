{
 "cells": [
  {
   "cell_type": "code",
   "execution_count": 1,
   "metadata": {},
   "outputs": [],
   "source": [
    "%load_ext autoreload\n",
    "%autoreload 2"
   ]
  },
  {
   "cell_type": "code",
   "execution_count": 2,
   "metadata": {},
   "outputs": [],
   "source": [
    "from code_training.data_utils import (\n",
    "\n",
    "    get_dev_db_params,\n",
    "    get_table_from_database,\n",
    ")\n",
    "\n",
    "import os\n",
    "import pandas as pd\n",
    "import yaml\n",
    "import seaborn as sns\n",
    "import matplotlib.pyplot as plt\n",
    "import numpy as np\n",
    "\n",
    "sns.set_style(\"darkgrid\")"
   ]
  },
  {
   "cell_type": "code",
   "execution_count": 3,
   "metadata": {},
   "outputs": [],
   "source": [
    "parameters_file = os.path.join(\"parameters.yaml\")\n",
    "config_file = os.path.join(\"config.yaml\")\n",
    "config_secrets_file = os.path.join(\"config_secret.yaml\")"
   ]
  },
  {
   "cell_type": "markdown",
   "metadata": {},
   "source": [
    "Read in the data"
   ]
  },
  {
   "cell_type": "code",
   "execution_count": 4,
   "metadata": {},
   "outputs": [],
   "source": [
    "with open(parameters_file) as fp:\n",
    "        parameters = yaml.safe_load(fp)\n",
    "db_params = get_dev_db_params(\n",
    "    config_file,\n",
    "    config_secrets_file,\n",
    ")\n",
    "\n",
    "df = get_table_from_database(**db_params, table=\"ratings\")\n"
   ]
  },
  {
   "cell_type": "code",
   "execution_count": 5,
   "metadata": {},
   "outputs": [
    {
     "name": "stdout",
     "output_type": "stream",
     "text": [
      "<class 'pandas.core.frame.DataFrame'>\n",
      "RangeIndex: 66658 entries, 0 to 66657\n",
      "Data columns (total 5 columns):\n",
      " #   Column     Non-Null Count  Dtype  \n",
      "---  ------     --------------  -----  \n",
      " 0   index      66658 non-null  int64  \n",
      " 1   userId     66658 non-null  int64  \n",
      " 2   movieId    66658 non-null  int64  \n",
      " 3   rating     66658 non-null  float64\n",
      " 4   timestamp  66658 non-null  int64  \n",
      "dtypes: float64(1), int64(4)\n",
      "memory usage: 2.5 MB\n"
     ]
    }
   ],
   "source": [
    "df.info()"
   ]
  },
  {
   "cell_type": "code",
   "execution_count": 6,
   "metadata": {},
   "outputs": [
    {
     "data": {
      "text/plain": [
       "<Axes: xlabel='rating', ylabel='Count'>"
      ]
     },
     "execution_count": 6,
     "metadata": {},
     "output_type": "execute_result"
    },
    {
     "data": {
      "image/png": "[encoded data removed]",
      "text/plain": [
       "<Figure size 640x480 with 1 Axes>"
      ]
     },
     "metadata": {},
     "output_type": "display_data"
    }
   ],
   "source": [
    "sns.histplot(df, x=\"rating\")"
   ]
  },
  {
   "cell_type": "markdown",
   "metadata": {},
   "source": [
    "I'd like to see, the distribution of ratings as a function of the mean rating. I'll calculate the mean rating per movie and then merge the mean rating onto the original data"
   ]
  },
  {
   "cell_type": "code",
   "execution_count": 16,
   "metadata": {},
   "outputs": [],
   "source": [
    "df_movie_grp = df.groupby(\"movieId\").agg({\"rating\": \"mean\"}).rename(columns={\"rating\": \"mean_rating_for_movie\"}).reset_index()"
   ]
  },
  {
   "cell_type": "code",
   "execution_count": 17,
   "metadata": {},
   "outputs": [
    {
     "data": {
      "text/html": [
       "<div>\n",
       "<style scoped>\n",
       "    .dataframe tbody tr th:only-of-type {\n",
       "        vertical-align: middle;\n",
       "    }\n",
       "\n",
       "    .dataframe tbody tr th {\n",
       "        vertical-align: top;\n",
       "    }\n",
       "\n",
       "    .dataframe thead th {\n",
       "        text-align: right;\n",
       "    }\n",
       "</style>\n",
       "<table border=\"1\" class=\"dataframe\">\n",
       "  <thead>\n",
       "    <tr style=\"text-align: right;\">\n",
       "      <th></th>\n",
       "      <th>index</th>\n",
       "      <th>userId</th>\n",
       "      <th>movieId</th>\n",
       "      <th>rating</th>\n",
       "      <th>timestamp</th>\n",
       "      <th>mean_rating_for_movie</th>\n",
       "    </tr>\n",
       "  </thead>\n",
       "  <tbody>\n",
       "    <tr>\n",
       "      <th>0</th>\n",
       "      <td>0</td>\n",
       "      <td>1</td>\n",
       "      <td>1</td>\n",
       "      <td>4.0</td>\n",
       "      <td>964982703</td>\n",
       "      <td>3.920930</td>\n",
       "    </tr>\n",
       "    <tr>\n",
       "      <th>1</th>\n",
       "      <td>1</td>\n",
       "      <td>1</td>\n",
       "      <td>3</td>\n",
       "      <td>4.0</td>\n",
       "      <td>964981247</td>\n",
       "      <td>3.259615</td>\n",
       "    </tr>\n",
       "    <tr>\n",
       "      <th>2</th>\n",
       "      <td>2</td>\n",
       "      <td>1</td>\n",
       "      <td>6</td>\n",
       "      <td>4.0</td>\n",
       "      <td>964982224</td>\n",
       "      <td>3.946078</td>\n",
       "    </tr>\n",
       "    <tr>\n",
       "      <th>3</th>\n",
       "      <td>3</td>\n",
       "      <td>1</td>\n",
       "      <td>47</td>\n",
       "      <td>5.0</td>\n",
       "      <td>964983815</td>\n",
       "      <td>3.975369</td>\n",
       "    </tr>\n",
       "    <tr>\n",
       "      <th>4</th>\n",
       "      <td>4</td>\n",
       "      <td>1</td>\n",
       "      <td>50</td>\n",
       "      <td>5.0</td>\n",
       "      <td>964982931</td>\n",
       "      <td>4.237745</td>\n",
       "    </tr>\n",
       "  </tbody>\n",
       "</table>\n",
       "</div>"
      ],
      "text/plain": [
       "   index  userId  movieId  rating  timestamp  mean_rating_for_movie\n",
       "0      0       1        1     4.0  964982703               3.920930\n",
       "1      1       1        3     4.0  964981247               3.259615\n",
       "2      2       1        6     4.0  964982224               3.946078\n",
       "3      3       1       47     5.0  964983815               3.975369\n",
       "4      4       1       50     5.0  964982931               4.237745"
      ]
     },
     "execution_count": 17,
     "metadata": {},
     "output_type": "execute_result"
    }
   ],
   "source": [
    "df_with_means = pd.merge(df, df_movie_grp[[\"movieId\", \"mean_rating_for_movie\"]])\n",
    "df_with_means.head()"
   ]
  },
  {
   "cell_type": "code",
   "execution_count": 18,
   "metadata": {},
   "outputs": [
    {
     "data": {
      "text/plain": [
       "<Axes: xlabel='mean_rating_for_movie', ylabel='Count'>"
      ]
     },
     "execution_count": 18,
     "metadata": {},
     "output_type": "execute_result"
    },
    {
     "data": {
      "image/png": "[encoded data removed]",
      "text/plain": [
       "<Figure size 640x480 with 1 Axes>"
      ]
     },
     "metadata": {},
     "output_type": "display_data"
    }
   ],
   "source": [
    "sns.histplot(df_movie_grp, x=\"mean_rating_for_movie\")"
   ]
  },
  {
   "cell_type": "markdown",
   "metadata": {},
   "source": [
    "Let's round the mean rating so we can see what the distribution of ratings are for each rounded rating of [2.0, 2.5, 3.0, 3.5, 4.0, 4.5]"
   ]
  },
  {
   "cell_type": "code",
   "execution_count": 20,
   "metadata": {},
   "outputs": [],
   "source": [
    "df_with_means[\"rounded_mean_rating\"] = df_with_means[\"mean_rating_for_movie\"].map(lambda x: round(round(2*x)/2, 1))"
   ]
  },
  {
   "cell_type": "markdown",
   "metadata": {},
   "source": [
    "The distributions look as expected. No matter what the mean rating for a movie, there were always some .5 star ratings and 5 star ratings. This is likely going to be the source of errors, as a machine learning algorithm is going to pick up on the ratings being overall high or low, and likely place heavy emphasis on that when predicting what a user will rate the movie."
   ]
  },
  {
   "cell_type": "code",
   "execution_count": 21,
   "metadata": {},
   "outputs": [
    {
     "name": "stdout",
     "output_type": "stream",
     "text": [
      "mean rounded rating: 2.0\n"
     ]
    },
    {
     "data": {
      "text/html": [
       "<div>\n",
       "<style scoped>\n",
       "    .dataframe tbody tr th:only-of-type {\n",
       "        vertical-align: middle;\n",
       "    }\n",
       "\n",
       "    .dataframe tbody tr th {\n",
       "        vertical-align: top;\n",
       "    }\n",
       "\n",
       "    .dataframe thead th {\n",
       "        text-align: right;\n",
       "    }\n",
       "</style>\n",
       "<table border=\"1\" class=\"dataframe\">\n",
       "  <thead>\n",
       "    <tr style=\"text-align: right;\">\n",
       "      <th></th>\n",
       "      <th>index</th>\n",
       "      <th>userId</th>\n",
       "      <th>movieId</th>\n",
       "      <th>rating</th>\n",
       "      <th>timestamp</th>\n",
       "      <th>mean_rating_for_movie</th>\n",
       "      <th>rounded_mean_rating</th>\n",
       "    </tr>\n",
       "  </thead>\n",
       "  <tbody>\n",
       "    <tr>\n",
       "      <th>90</th>\n",
       "      <td>106</td>\n",
       "      <td>1</td>\n",
       "      <td>1644</td>\n",
       "      <td>3.0</td>\n",
       "      <td>964983536</td>\n",
       "      <td>2.109375</td>\n",
       "      <td>2.0</td>\n",
       "    </tr>\n",
       "    <tr>\n",
       "      <th>498</th>\n",
       "      <td>738</td>\n",
       "      <td>6</td>\n",
       "      <td>374</td>\n",
       "      <td>3.0</td>\n",
       "      <td>845554296</td>\n",
       "      <td>2.200000</td>\n",
       "      <td>2.0</td>\n",
       "    </tr>\n",
       "    <tr>\n",
       "      <th>528</th>\n",
       "      <td>798</td>\n",
       "      <td>6</td>\n",
       "      <td>546</td>\n",
       "      <td>2.0</td>\n",
       "      <td>845554349</td>\n",
       "      <td>2.000000</td>\n",
       "      <td>2.0</td>\n",
       "    </tr>\n",
       "    <tr>\n",
       "      <th>612</th>\n",
       "      <td>923</td>\n",
       "      <td>7</td>\n",
       "      <td>2701</td>\n",
       "      <td>1.5</td>\n",
       "      <td>1106713076</td>\n",
       "      <td>2.207547</td>\n",
       "      <td>2.0</td>\n",
       "    </tr>\n",
       "    <tr>\n",
       "      <th>882</th>\n",
       "      <td>1316</td>\n",
       "      <td>11</td>\n",
       "      <td>1882</td>\n",
       "      <td>2.0</td>\n",
       "      <td>901200143</td>\n",
       "      <td>1.954545</td>\n",
       "      <td>2.0</td>\n",
       "    </tr>\n",
       "  </tbody>\n",
       "</table>\n",
       "</div>"
      ],
      "text/plain": [
       "     index  userId  movieId  rating   timestamp  mean_rating_for_movie  \\\n",
       "90     106       1     1644     3.0   964983536               2.109375   \n",
       "498    738       6      374     3.0   845554296               2.200000   \n",
       "528    798       6      546     2.0   845554349               2.000000   \n",
       "612    923       7     2701     1.5  1106713076               2.207547   \n",
       "882   1316      11     1882     2.0   901200143               1.954545   \n",
       "\n",
       "     rounded_mean_rating  \n",
       "90                   2.0  \n",
       "498                  2.0  \n",
       "528                  2.0  \n",
       "612                  2.0  \n",
       "882                  2.0  "
      ]
     },
     "metadata": {},
     "output_type": "display_data"
    },
    {
     "data": {
      "image/png": "[encoded data removed]",
      "text/plain": [
       "<Figure size 640x480 with 1 Axes>"
      ]
     },
     "metadata": {},
     "output_type": "display_data"
    },
    {
     "name": "stdout",
     "output_type": "stream",
     "text": [
      "mean rounded rating: 2.5\n"
     ]
    },
    {
     "data": {
      "text/html": [
       "<div>\n",
       "<style scoped>\n",
       "    .dataframe tbody tr th:only-of-type {\n",
       "        vertical-align: middle;\n",
       "    }\n",
       "\n",
       "    .dataframe tbody tr th {\n",
       "        vertical-align: top;\n",
       "    }\n",
       "\n",
       "    .dataframe thead th {\n",
       "        text-align: right;\n",
       "    }\n",
       "</style>\n",
       "<table border=\"1\" class=\"dataframe\">\n",
       "  <thead>\n",
       "    <tr style=\"text-align: right;\">\n",
       "      <th></th>\n",
       "      <th>index</th>\n",
       "      <th>userId</th>\n",
       "      <th>movieId</th>\n",
       "      <th>rating</th>\n",
       "      <th>timestamp</th>\n",
       "      <th>mean_rating_for_movie</th>\n",
       "      <th>rounded_mean_rating</th>\n",
       "    </tr>\n",
       "  </thead>\n",
       "  <tbody>\n",
       "    <tr>\n",
       "      <th>37</th>\n",
       "      <td>39</td>\n",
       "      <td>1</td>\n",
       "      <td>673</td>\n",
       "      <td>3.0</td>\n",
       "      <td>964981775</td>\n",
       "      <td>2.707547</td>\n",
       "      <td>2.5</td>\n",
       "    </tr>\n",
       "    <tr>\n",
       "      <th>165</th>\n",
       "      <td>209</td>\n",
       "      <td>1</td>\n",
       "      <td>3273</td>\n",
       "      <td>5.0</td>\n",
       "      <td>964983536</td>\n",
       "      <td>2.672414</td>\n",
       "      <td>2.5</td>\n",
       "    </tr>\n",
       "    <tr>\n",
       "      <th>224</th>\n",
       "      <td>299</td>\n",
       "      <td>3</td>\n",
       "      <td>72378</td>\n",
       "      <td>0.5</td>\n",
       "      <td>1306464164</td>\n",
       "      <td>2.619048</td>\n",
       "      <td>2.5</td>\n",
       "    </tr>\n",
       "    <tr>\n",
       "      <th>411</th>\n",
       "      <td>573</td>\n",
       "      <td>6</td>\n",
       "      <td>19</td>\n",
       "      <td>2.0</td>\n",
       "      <td>845553382</td>\n",
       "      <td>2.727273</td>\n",
       "      <td>2.5</td>\n",
       "    </tr>\n",
       "    <tr>\n",
       "      <th>425</th>\n",
       "      <td>594</td>\n",
       "      <td>6</td>\n",
       "      <td>65</td>\n",
       "      <td>3.0</td>\n",
       "      <td>845555070</td>\n",
       "      <td>2.532258</td>\n",
       "      <td>2.5</td>\n",
       "    </tr>\n",
       "  </tbody>\n",
       "</table>\n",
       "</div>"
      ],
      "text/plain": [
       "     index  userId  movieId  rating   timestamp  mean_rating_for_movie  \\\n",
       "37      39       1      673     3.0   964981775               2.707547   \n",
       "165    209       1     3273     5.0   964983536               2.672414   \n",
       "224    299       3    72378     0.5  1306464164               2.619048   \n",
       "411    573       6       19     2.0   845553382               2.727273   \n",
       "425    594       6       65     3.0   845555070               2.532258   \n",
       "\n",
       "     rounded_mean_rating  \n",
       "37                   2.5  \n",
       "165                  2.5  \n",
       "224                  2.5  \n",
       "411                  2.5  \n",
       "425                  2.5  "
      ]
     },
     "metadata": {},
     "output_type": "display_data"
    },
    {
     "data": {
      "image/png": "[encoded data removed]",
      "text/plain": [
       "<Figure size 640x480 with 1 Axes>"
      ]
     },
     "metadata": {},
     "output_type": "display_data"
    },
    {
     "name": "stdout",
     "output_type": "stream",
     "text": [
      "mean rounded rating: 3.0\n"
     ]
    },
    {
     "data": {
      "text/html": [
       "<div>\n",
       "<style scoped>\n",
       "    .dataframe tbody tr th:only-of-type {\n",
       "        vertical-align: middle;\n",
       "    }\n",
       "\n",
       "    .dataframe tbody tr th {\n",
       "        vertical-align: top;\n",
       "    }\n",
       "\n",
       "    .dataframe thead th {\n",
       "        text-align: right;\n",
       "    }\n",
       "</style>\n",
       "<table border=\"1\" class=\"dataframe\">\n",
       "  <thead>\n",
       "    <tr style=\"text-align: right;\">\n",
       "      <th></th>\n",
       "      <th>index</th>\n",
       "      <th>userId</th>\n",
       "      <th>movieId</th>\n",
       "      <th>rating</th>\n",
       "      <th>timestamp</th>\n",
       "      <th>mean_rating_for_movie</th>\n",
       "      <th>rounded_mean_rating</th>\n",
       "    </tr>\n",
       "  </thead>\n",
       "  <tbody>\n",
       "    <tr>\n",
       "      <th>12</th>\n",
       "      <td>13</td>\n",
       "      <td>1</td>\n",
       "      <td>231</td>\n",
       "      <td>5.0</td>\n",
       "      <td>964981179</td>\n",
       "      <td>3.060150</td>\n",
       "      <td>3.0</td>\n",
       "    </tr>\n",
       "    <tr>\n",
       "      <th>21</th>\n",
       "      <td>22</td>\n",
       "      <td>1</td>\n",
       "      <td>367</td>\n",
       "      <td>4.0</td>\n",
       "      <td>964981710</td>\n",
       "      <td>3.184713</td>\n",
       "      <td>3.0</td>\n",
       "    </tr>\n",
       "    <tr>\n",
       "      <th>54</th>\n",
       "      <td>64</td>\n",
       "      <td>1</td>\n",
       "      <td>1092</td>\n",
       "      <td>5.0</td>\n",
       "      <td>964983484</td>\n",
       "      <td>3.191489</td>\n",
       "      <td>3.0</td>\n",
       "    </tr>\n",
       "    <tr>\n",
       "      <th>79</th>\n",
       "      <td>92</td>\n",
       "      <td>1</td>\n",
       "      <td>1377</td>\n",
       "      <td>3.0</td>\n",
       "      <td>964982653</td>\n",
       "      <td>3.025000</td>\n",
       "      <td>3.0</td>\n",
       "    </tr>\n",
       "    <tr>\n",
       "      <th>84</th>\n",
       "      <td>99</td>\n",
       "      <td>1</td>\n",
       "      <td>1552</td>\n",
       "      <td>4.0</td>\n",
       "      <td>964982620</td>\n",
       "      <td>3.033898</td>\n",
       "      <td>3.0</td>\n",
       "    </tr>\n",
       "  </tbody>\n",
       "</table>\n",
       "</div>"
      ],
      "text/plain": [
       "    index  userId  movieId  rating  timestamp  mean_rating_for_movie  \\\n",
       "12     13       1      231     5.0  964981179               3.060150   \n",
       "21     22       1      367     4.0  964981710               3.184713   \n",
       "54     64       1     1092     5.0  964983484               3.191489   \n",
       "79     92       1     1377     3.0  964982653               3.025000   \n",
       "84     99       1     1552     4.0  964982620               3.033898   \n",
       "\n",
       "    rounded_mean_rating  \n",
       "12                  3.0  \n",
       "21                  3.0  \n",
       "54                  3.0  \n",
       "79                  3.0  \n",
       "84                  3.0  "
      ]
     },
     "metadata": {},
     "output_type": "display_data"
    },
    {
     "data": {
      "image/png": "[encoded data removed]",
      "text/plain": [
       "<Figure size 640x480 with 1 Axes>"
      ]
     },
     "metadata": {},
     "output_type": "display_data"
    },
    {
     "name": "stdout",
     "output_type": "stream",
     "text": [
      "mean rounded rating: 3.5\n"
     ]
    },
    {
     "data": {
      "text/html": [
       "<div>\n",
       "<style scoped>\n",
       "    .dataframe tbody tr th:only-of-type {\n",
       "        vertical-align: middle;\n",
       "    }\n",
       "\n",
       "    .dataframe tbody tr th {\n",
       "        vertical-align: top;\n",
       "    }\n",
       "\n",
       "    .dataframe thead th {\n",
       "        text-align: right;\n",
       "    }\n",
       "</style>\n",
       "<table border=\"1\" class=\"dataframe\">\n",
       "  <thead>\n",
       "    <tr style=\"text-align: right;\">\n",
       "      <th></th>\n",
       "      <th>index</th>\n",
       "      <th>userId</th>\n",
       "      <th>movieId</th>\n",
       "      <th>rating</th>\n",
       "      <th>timestamp</th>\n",
       "      <th>mean_rating_for_movie</th>\n",
       "      <th>rounded_mean_rating</th>\n",
       "    </tr>\n",
       "  </thead>\n",
       "  <tbody>\n",
       "    <tr>\n",
       "      <th>1</th>\n",
       "      <td>1</td>\n",
       "      <td>1</td>\n",
       "      <td>3</td>\n",
       "      <td>4.0</td>\n",
       "      <td>964981247</td>\n",
       "      <td>3.259615</td>\n",
       "      <td>3.5</td>\n",
       "    </tr>\n",
       "    <tr>\n",
       "      <th>5</th>\n",
       "      <td>5</td>\n",
       "      <td>1</td>\n",
       "      <td>70</td>\n",
       "      <td>3.0</td>\n",
       "      <td>964982400</td>\n",
       "      <td>3.509091</td>\n",
       "      <td>3.5</td>\n",
       "    </tr>\n",
       "    <tr>\n",
       "      <th>8</th>\n",
       "      <td>8</td>\n",
       "      <td>1</td>\n",
       "      <td>151</td>\n",
       "      <td>5.0</td>\n",
       "      <td>964984041</td>\n",
       "      <td>3.545455</td>\n",
       "      <td>3.5</td>\n",
       "    </tr>\n",
       "    <tr>\n",
       "      <th>9</th>\n",
       "      <td>10</td>\n",
       "      <td>1</td>\n",
       "      <td>163</td>\n",
       "      <td>5.0</td>\n",
       "      <td>964983650</td>\n",
       "      <td>3.560606</td>\n",
       "      <td>3.5</td>\n",
       "    </tr>\n",
       "    <tr>\n",
       "      <th>10</th>\n",
       "      <td>11</td>\n",
       "      <td>1</td>\n",
       "      <td>216</td>\n",
       "      <td>5.0</td>\n",
       "      <td>964981208</td>\n",
       "      <td>3.326531</td>\n",
       "      <td>3.5</td>\n",
       "    </tr>\n",
       "  </tbody>\n",
       "</table>\n",
       "</div>"
      ],
      "text/plain": [
       "    index  userId  movieId  rating  timestamp  mean_rating_for_movie  \\\n",
       "1       1       1        3     4.0  964981247               3.259615   \n",
       "5       5       1       70     3.0  964982400               3.509091   \n",
       "8       8       1      151     5.0  964984041               3.545455   \n",
       "9      10       1      163     5.0  964983650               3.560606   \n",
       "10     11       1      216     5.0  964981208               3.326531   \n",
       "\n",
       "    rounded_mean_rating  \n",
       "1                   3.5  \n",
       "5                   3.5  \n",
       "8                   3.5  \n",
       "9                   3.5  \n",
       "10                  3.5  "
      ]
     },
     "metadata": {},
     "output_type": "display_data"
    },
    {
     "data": {
      "image/png": "[encoded data removed]",
      "text/plain": [
       "<Figure size 640x480 with 1 Axes>"
      ]
     },
     "metadata": {},
     "output_type": "display_data"
    },
    {
     "name": "stdout",
     "output_type": "stream",
     "text": [
      "mean rounded rating: 4.0\n"
     ]
    },
    {
     "data": {
      "text/html": [
       "<div>\n",
       "<style scoped>\n",
       "    .dataframe tbody tr th:only-of-type {\n",
       "        vertical-align: middle;\n",
       "    }\n",
       "\n",
       "    .dataframe tbody tr th {\n",
       "        vertical-align: top;\n",
       "    }\n",
       "\n",
       "    .dataframe thead th {\n",
       "        text-align: right;\n",
       "    }\n",
       "</style>\n",
       "<table border=\"1\" class=\"dataframe\">\n",
       "  <thead>\n",
       "    <tr style=\"text-align: right;\">\n",
       "      <th></th>\n",
       "      <th>index</th>\n",
       "      <th>userId</th>\n",
       "      <th>movieId</th>\n",
       "      <th>rating</th>\n",
       "      <th>timestamp</th>\n",
       "      <th>mean_rating_for_movie</th>\n",
       "      <th>rounded_mean_rating</th>\n",
       "    </tr>\n",
       "  </thead>\n",
       "  <tbody>\n",
       "    <tr>\n",
       "      <th>0</th>\n",
       "      <td>0</td>\n",
       "      <td>1</td>\n",
       "      <td>1</td>\n",
       "      <td>4.0</td>\n",
       "      <td>964982703</td>\n",
       "      <td>3.920930</td>\n",
       "      <td>4.0</td>\n",
       "    </tr>\n",
       "    <tr>\n",
       "      <th>2</th>\n",
       "      <td>2</td>\n",
       "      <td>1</td>\n",
       "      <td>6</td>\n",
       "      <td>4.0</td>\n",
       "      <td>964982224</td>\n",
       "      <td>3.946078</td>\n",
       "      <td>4.0</td>\n",
       "    </tr>\n",
       "    <tr>\n",
       "      <th>3</th>\n",
       "      <td>3</td>\n",
       "      <td>1</td>\n",
       "      <td>47</td>\n",
       "      <td>5.0</td>\n",
       "      <td>964983815</td>\n",
       "      <td>3.975369</td>\n",
       "      <td>4.0</td>\n",
       "    </tr>\n",
       "    <tr>\n",
       "      <th>4</th>\n",
       "      <td>4</td>\n",
       "      <td>1</td>\n",
       "      <td>50</td>\n",
       "      <td>5.0</td>\n",
       "      <td>964982931</td>\n",
       "      <td>4.237745</td>\n",
       "      <td>4.0</td>\n",
       "    </tr>\n",
       "    <tr>\n",
       "      <th>6</th>\n",
       "      <td>6</td>\n",
       "      <td>1</td>\n",
       "      <td>101</td>\n",
       "      <td>5.0</td>\n",
       "      <td>964980868</td>\n",
       "      <td>3.782609</td>\n",
       "      <td>4.0</td>\n",
       "    </tr>\n",
       "  </tbody>\n",
       "</table>\n",
       "</div>"
      ],
      "text/plain": [
       "   index  userId  movieId  rating  timestamp  mean_rating_for_movie  \\\n",
       "0      0       1        1     4.0  964982703               3.920930   \n",
       "2      2       1        6     4.0  964982224               3.946078   \n",
       "3      3       1       47     5.0  964983815               3.975369   \n",
       "4      4       1       50     5.0  964982931               4.237745   \n",
       "6      6       1      101     5.0  964980868               3.782609   \n",
       "\n",
       "   rounded_mean_rating  \n",
       "0                  4.0  \n",
       "2                  4.0  \n",
       "3                  4.0  \n",
       "4                  4.0  \n",
       "6                  4.0  "
      ]
     },
     "metadata": {},
     "output_type": "display_data"
    },
    {
     "data": {
      "image/png": "[encoded data removed]",
      "text/plain": [
       "<Figure size 640x480 with 1 Axes>"
      ]
     },
     "metadata": {},
     "output_type": "display_data"
    },
    {
     "name": "stdout",
     "output_type": "stream",
     "text": [
      "mean rounded rating: 4.5\n"
     ]
    },
    {
     "data": {
      "text/html": [
       "<div>\n",
       "<style scoped>\n",
       "    .dataframe tbody tr th:only-of-type {\n",
       "        vertical-align: middle;\n",
       "    }\n",
       "\n",
       "    .dataframe tbody tr th {\n",
       "        vertical-align: top;\n",
       "    }\n",
       "\n",
       "    .dataframe thead th {\n",
       "        text-align: right;\n",
       "    }\n",
       "</style>\n",
       "<table border=\"1\" class=\"dataframe\">\n",
       "  <thead>\n",
       "    <tr style=\"text-align: right;\">\n",
       "      <th></th>\n",
       "      <th>index</th>\n",
       "      <th>userId</th>\n",
       "      <th>movieId</th>\n",
       "      <th>rating</th>\n",
       "      <th>timestamp</th>\n",
       "      <th>mean_rating_for_movie</th>\n",
       "      <th>rounded_mean_rating</th>\n",
       "    </tr>\n",
       "  </thead>\n",
       "  <tbody>\n",
       "    <tr>\n",
       "      <th>151</th>\n",
       "      <td>192</td>\n",
       "      <td>1</td>\n",
       "      <td>2959</td>\n",
       "      <td>5.0</td>\n",
       "      <td>964983282</td>\n",
       "      <td>4.272936</td>\n",
       "      <td>4.5</td>\n",
       "    </tr>\n",
       "    <tr>\n",
       "      <th>180</th>\n",
       "      <td>232</td>\n",
       "      <td>2</td>\n",
       "      <td>318</td>\n",
       "      <td>3.0</td>\n",
       "      <td>1445714835</td>\n",
       "      <td>4.429022</td>\n",
       "      <td>4.5</td>\n",
       "    </tr>\n",
       "    <tr>\n",
       "      <th>187</th>\n",
       "      <td>239</td>\n",
       "      <td>2</td>\n",
       "      <td>48516</td>\n",
       "      <td>4.0</td>\n",
       "      <td>1445715064</td>\n",
       "      <td>4.252336</td>\n",
       "      <td>4.5</td>\n",
       "    </tr>\n",
       "    <tr>\n",
       "      <th>244</th>\n",
       "      <td>332</td>\n",
       "      <td>4</td>\n",
       "      <td>475</td>\n",
       "      <td>5.0</td>\n",
       "      <td>945174290</td>\n",
       "      <td>4.300000</td>\n",
       "      <td>4.5</td>\n",
       "    </tr>\n",
       "    <tr>\n",
       "      <th>254</th>\n",
       "      <td>348</td>\n",
       "      <td>4</td>\n",
       "      <td>898</td>\n",
       "      <td>5.0</td>\n",
       "      <td>964623347</td>\n",
       "      <td>4.310345</td>\n",
       "      <td>4.5</td>\n",
       "    </tr>\n",
       "  </tbody>\n",
       "</table>\n",
       "</div>"
      ],
      "text/plain": [
       "     index  userId  movieId  rating   timestamp  mean_rating_for_movie  \\\n",
       "151    192       1     2959     5.0   964983282               4.272936   \n",
       "180    232       2      318     3.0  1445714835               4.429022   \n",
       "187    239       2    48516     4.0  1445715064               4.252336   \n",
       "244    332       4      475     5.0   945174290               4.300000   \n",
       "254    348       4      898     5.0   964623347               4.310345   \n",
       "\n",
       "     rounded_mean_rating  \n",
       "151                  4.5  \n",
       "180                  4.5  \n",
       "187                  4.5  \n",
       "244                  4.5  \n",
       "254                  4.5  "
      ]
     },
     "metadata": {},
     "output_type": "display_data"
    },
    {
     "data": {
      "image/png": "[encoded data removed]",
      "text/plain": [
       "<Figure size 640x480 with 1 Axes>"
      ]
     },
     "metadata": {},
     "output_type": "display_data"
    }
   ],
   "source": [
    "rounded_ratings = [rating for rating in sorted(df_with_means[\"rounded_mean_rating\"].unique())]\n",
    "for mean_rounded_rating in rounded_ratings:\n",
    "    df_this_rating = df_with_means[np.isclose(df_with_means[\"rounded_mean_rating\"], mean_rounded_rating)]\n",
    "    print(f\"mean rounded rating: {mean_rounded_rating}\")\n",
    "    sns.histplot(df_this_rating, x=\"rating\")\n",
    "    display(df_this_rating.head())\n",
    "    plt.show()"
   ]
  },
  {
   "cell_type": "code",
   "execution_count": null,
   "metadata": {},
   "outputs": [],
   "source": []
  }
 ],
 "metadata": {
  "kernelspec": {
   "display_name": "movie-recommender-model-training",
   "language": "python",
   "name": "python3"
  },
  "language_info": {
   "codemirror_mode": {
    "name": "ipython",
    "version": 3
   },
   "file_extension": ".py",
   "mimetype": "text/x-python",
   "name": "python",
   "nbconvert_exporter": "python",
   "pygments_lexer": "ipython3",
   "version": "3.11.9"
  }
 },
 "nbformat": 4,
 "nbformat_minor": 2
}
